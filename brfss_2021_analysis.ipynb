{
 "cells": [
  {
   "cell_type": "markdown",
   "id": "61d7e5ec",
   "metadata": {},
   "source": [
    "# Behavioral Risk Factor Surveillance System (BRFSS) Health Modeling\n",
    "This project explores and analyzes data from the Behavioral Risk Factor Surveillance System (BRFSS) 2021, using various regression techniques in R. The goal is to uncover relationships between behavioral risk factors and health outcomes across the U.S. adult population. These data come from the [Centers for Disease Control](www.cdc.gov).\n",
    "\n",
    "The following analysis includes exploratory data analysis, model fitting, diagnostics, and interpretation of findings.\n"
   ]
  },
  {
   "cell_type": "markdown",
   "id": "f6051e22",
   "metadata": {},
   "source": [
    "------------------------------------------------------------------------"
   ]
  },
  {
   "cell_type": "markdown",
   "id": "518c1857",
   "metadata": {},
   "source": [
    "### Packages\n",
    "The installed packages are:\n",
    "- `tidyverse`\n",
    "- `lm.beta`"
   ]
  },
  {
   "cell_type": "code",
   "execution_count": 3,
   "id": "1f39ed79",
   "metadata": {
    "vscode": {
     "languageId": "r"
    }
   },
   "outputs": [
    {
     "name": "stderr",
     "output_type": "stream",
     "text": [
      "── \u001b[1mAttaching core tidyverse packages\u001b[22m ──────────────────────── tidyverse 2.0.0 ──\n",
      "\u001b[32m✔\u001b[39m \u001b[34mdplyr    \u001b[39m 1.1.4     \u001b[32m✔\u001b[39m \u001b[34mreadr    \u001b[39m 2.1.5\n",
      "\u001b[32m✔\u001b[39m \u001b[34mforcats  \u001b[39m 1.0.0     \u001b[32m✔\u001b[39m \u001b[34mstringr  \u001b[39m 1.5.1\n",
      "\u001b[32m✔\u001b[39m \u001b[34mggplot2  \u001b[39m 3.5.2     \u001b[32m✔\u001b[39m \u001b[34mtibble   \u001b[39m 3.2.1\n",
      "\u001b[32m✔\u001b[39m \u001b[34mlubridate\u001b[39m 1.9.4     \u001b[32m✔\u001b[39m \u001b[34mtidyr    \u001b[39m 1.3.1\n",
      "\u001b[32m✔\u001b[39m \u001b[34mpurrr    \u001b[39m 1.0.2     \n",
      "── \u001b[1mConflicts\u001b[22m ────────────────────────────────────────── tidyverse_conflicts() ──\n",
      "\u001b[31m✖\u001b[39m \u001b[34mdplyr\u001b[39m::\u001b[32mfilter()\u001b[39m masks \u001b[34mstats\u001b[39m::filter()\n",
      "\u001b[31m✖\u001b[39m \u001b[34mdplyr\u001b[39m::\u001b[32mlag()\u001b[39m    masks \u001b[34mstats\u001b[39m::lag()\n",
      "\u001b[36mℹ\u001b[39m Use the conflicted package (\u001b[3m\u001b[34m<http://conflicted.r-lib.org/>\u001b[39m\u001b[23m) to force all conflicts to become errors\n"
     ]
    }
   ],
   "source": [
    "library(tidyverse)\n",
    "library(lm.beta)"
   ]
  },
  {
   "cell_type": "markdown",
   "id": "952f4a67",
   "metadata": {},
   "source": [
    "------------------------------------------------------------------------"
   ]
  },
  {
   "cell_type": "markdown",
   "id": "6e93819c",
   "metadata": {},
   "source": [
    "### Preliminaries"
   ]
  },
  {
   "cell_type": "code",
   "execution_count": 13,
   "id": "cdeae595",
   "metadata": {
    "vscode": {
     "languageId": "r"
    }
   },
   "outputs": [],
   "source": [
    "# set the working directory to use the data folder\n",
    "setwd(\"/Users/spotts/Projects/brfss-health-modeling/\")\n",
    "# setwd(\"data/\")"
   ]
  },
  {
   "cell_type": "code",
   "execution_count": 14,
   "id": "55509c3a",
   "metadata": {
    "vscode": {
     "languageId": "r"
    }
   },
   "outputs": [
    {
     "data": {
      "text/html": [
       "<table class=\"dataframe\">\n",
       "<caption>A tibble: 6 × 209</caption>\n",
       "<thead>\n",
       "\t<tr><th scope=col>_STATE</th><th scope=col>IMONTH</th><th scope=col>IDAY</th><th scope=col>IYEAR</th><th scope=col>DISPCODE</th><th scope=col>PVTRESD1</th><th scope=col>COLGHOUS</th><th scope=col>NUMADULT</th><th scope=col>NUMMEN</th><th scope=col>NUMWOMEN</th><th scope=col>⋯</th><th scope=col>SOFEMALE</th><th scope=col>TRNSGNDR</th><th scope=col>QSTVER</th><th scope=col>QSTLANG</th><th scope=col>_METSTAT</th><th scope=col>_URBSTAT</th><th scope=col>MSCODE</th><th scope=col>_CHISPNC</th><th scope=col>CAGEG</th><th scope=col>_AGE_G</th></tr>\n",
       "\t<tr><th scope=col>&lt;dbl&gt;</th><th scope=col>&lt;chr&gt;</th><th scope=col>&lt;chr&gt;</th><th scope=col>&lt;dbl&gt;</th><th scope=col>&lt;dbl&gt;</th><th scope=col>&lt;dbl&gt;</th><th scope=col>&lt;lgl&gt;</th><th scope=col>&lt;dbl&gt;</th><th scope=col>&lt;dbl&gt;</th><th scope=col>&lt;dbl&gt;</th><th scope=col>⋯</th><th scope=col>&lt;dbl&gt;</th><th scope=col>&lt;dbl&gt;</th><th scope=col>&lt;dbl&gt;</th><th scope=col>&lt;dbl&gt;</th><th scope=col>&lt;dbl&gt;</th><th scope=col>&lt;dbl&gt;</th><th scope=col>&lt;dbl&gt;</th><th scope=col>&lt;dbl&gt;</th><th scope=col>&lt;dbl&gt;</th><th scope=col>&lt;dbl&gt;</th></tr>\n",
       "</thead>\n",
       "<tbody>\n",
       "\t<tr><td>1</td><td>01</td><td>19</td><td>2021</td><td>1100</td><td>1</td><td>NA</td><td>2</td><td> 1</td><td> 1</td><td>⋯</td><td>NA</td><td>NA</td><td>10</td><td>1</td><td>1</td><td>1</td><td>1</td><td>9</td><td>NA</td><td>6</td></tr>\n",
       "\t<tr><td>1</td><td>01</td><td>21</td><td>2021</td><td>1100</td><td>1</td><td>NA</td><td>2</td><td> 1</td><td> 1</td><td>⋯</td><td>NA</td><td>NA</td><td>10</td><td>1</td><td>1</td><td>1</td><td>2</td><td>9</td><td>NA</td><td>6</td></tr>\n",
       "\t<tr><td>1</td><td>01</td><td>21</td><td>2021</td><td>1100</td><td>1</td><td>NA</td><td>2</td><td> 1</td><td> 1</td><td>⋯</td><td>NA</td><td>NA</td><td>10</td><td>1</td><td>1</td><td>1</td><td>1</td><td>9</td><td>NA</td><td>6</td></tr>\n",
       "\t<tr><td>1</td><td>01</td><td>17</td><td>2021</td><td>1100</td><td>1</td><td>NA</td><td>2</td><td> 1</td><td> 1</td><td>⋯</td><td>NA</td><td>NA</td><td>10</td><td>1</td><td>1</td><td>1</td><td>3</td><td>9</td><td>NA</td><td>5</td></tr>\n",
       "\t<tr><td>1</td><td>01</td><td>15</td><td>2021</td><td>1100</td><td>1</td><td>NA</td><td>2</td><td> 1</td><td> 1</td><td>⋯</td><td>NA</td><td>NA</td><td>10</td><td>1</td><td>2</td><td>1</td><td>2</td><td>9</td><td>NA</td><td>6</td></tr>\n",
       "\t<tr><td>1</td><td>01</td><td>14</td><td>2021</td><td>1100</td><td>1</td><td>NA</td><td>1</td><td>NA</td><td>NA</td><td>⋯</td><td>NA</td><td>NA</td><td>10</td><td>1</td><td>2</td><td>2</td><td>5</td><td>9</td><td>NA</td><td>6</td></tr>\n",
       "</tbody>\n",
       "</table>\n"
      ],
      "text/latex": [
       "A tibble: 6 × 209\n",
       "\\begin{tabular}{lllllllllllllllllllll}\n",
       " \\_STATE & IMONTH & IDAY & IYEAR & DISPCODE & PVTRESD1 & COLGHOUS & NUMADULT & NUMMEN & NUMWOMEN & ⋯ & SOFEMALE & TRNSGNDR & QSTVER & QSTLANG & \\_METSTAT & \\_URBSTAT & MSCODE & \\_CHISPNC & CAGEG & \\_AGE\\_G\\\\\n",
       " <dbl> & <chr> & <chr> & <dbl> & <dbl> & <dbl> & <lgl> & <dbl> & <dbl> & <dbl> & ⋯ & <dbl> & <dbl> & <dbl> & <dbl> & <dbl> & <dbl> & <dbl> & <dbl> & <dbl> & <dbl>\\\\\n",
       "\\hline\n",
       "\t 1 & 01 & 19 & 2021 & 1100 & 1 & NA & 2 &  1 &  1 & ⋯ & NA & NA & 10 & 1 & 1 & 1 & 1 & 9 & NA & 6\\\\\n",
       "\t 1 & 01 & 21 & 2021 & 1100 & 1 & NA & 2 &  1 &  1 & ⋯ & NA & NA & 10 & 1 & 1 & 1 & 2 & 9 & NA & 6\\\\\n",
       "\t 1 & 01 & 21 & 2021 & 1100 & 1 & NA & 2 &  1 &  1 & ⋯ & NA & NA & 10 & 1 & 1 & 1 & 1 & 9 & NA & 6\\\\\n",
       "\t 1 & 01 & 17 & 2021 & 1100 & 1 & NA & 2 &  1 &  1 & ⋯ & NA & NA & 10 & 1 & 1 & 1 & 3 & 9 & NA & 5\\\\\n",
       "\t 1 & 01 & 15 & 2021 & 1100 & 1 & NA & 2 &  1 &  1 & ⋯ & NA & NA & 10 & 1 & 2 & 1 & 2 & 9 & NA & 6\\\\\n",
       "\t 1 & 01 & 14 & 2021 & 1100 & 1 & NA & 1 & NA & NA & ⋯ & NA & NA & 10 & 1 & 2 & 2 & 5 & 9 & NA & 6\\\\\n",
       "\\end{tabular}\n"
      ],
      "text/markdown": [
       "\n",
       "A tibble: 6 × 209\n",
       "\n",
       "| _STATE &lt;dbl&gt; | IMONTH &lt;chr&gt; | IDAY &lt;chr&gt; | IYEAR &lt;dbl&gt; | DISPCODE &lt;dbl&gt; | PVTRESD1 &lt;dbl&gt; | COLGHOUS &lt;lgl&gt; | NUMADULT &lt;dbl&gt; | NUMMEN &lt;dbl&gt; | NUMWOMEN &lt;dbl&gt; | ⋯ ⋯ | SOFEMALE &lt;dbl&gt; | TRNSGNDR &lt;dbl&gt; | QSTVER &lt;dbl&gt; | QSTLANG &lt;dbl&gt; | _METSTAT &lt;dbl&gt; | _URBSTAT &lt;dbl&gt; | MSCODE &lt;dbl&gt; | _CHISPNC &lt;dbl&gt; | CAGEG &lt;dbl&gt; | _AGE_G &lt;dbl&gt; |\n",
       "|---|---|---|---|---|---|---|---|---|---|---|---|---|---|---|---|---|---|---|---|---|\n",
       "| 1 | 01 | 19 | 2021 | 1100 | 1 | NA | 2 |  1 |  1 | ⋯ | NA | NA | 10 | 1 | 1 | 1 | 1 | 9 | NA | 6 |\n",
       "| 1 | 01 | 21 | 2021 | 1100 | 1 | NA | 2 |  1 |  1 | ⋯ | NA | NA | 10 | 1 | 1 | 1 | 2 | 9 | NA | 6 |\n",
       "| 1 | 01 | 21 | 2021 | 1100 | 1 | NA | 2 |  1 |  1 | ⋯ | NA | NA | 10 | 1 | 1 | 1 | 1 | 9 | NA | 6 |\n",
       "| 1 | 01 | 17 | 2021 | 1100 | 1 | NA | 2 |  1 |  1 | ⋯ | NA | NA | 10 | 1 | 1 | 1 | 3 | 9 | NA | 5 |\n",
       "| 1 | 01 | 15 | 2021 | 1100 | 1 | NA | 2 |  1 |  1 | ⋯ | NA | NA | 10 | 1 | 2 | 1 | 2 | 9 | NA | 6 |\n",
       "| 1 | 01 | 14 | 2021 | 1100 | 1 | NA | 1 | NA | NA | ⋯ | NA | NA | 10 | 1 | 2 | 2 | 5 | 9 | NA | 6 |\n",
       "\n"
      ],
      "text/plain": [
       "  _STATE IMONTH IDAY IYEAR DISPCODE PVTRESD1 COLGHOUS NUMADULT NUMMEN NUMWOMEN\n",
       "1 1      01     19   2021  1100     1        NA       2         1      1      \n",
       "2 1      01     21   2021  1100     1        NA       2         1      1      \n",
       "3 1      01     21   2021  1100     1        NA       2         1      1      \n",
       "4 1      01     17   2021  1100     1        NA       2         1      1      \n",
       "5 1      01     15   2021  1100     1        NA       2         1      1      \n",
       "6 1      01     14   2021  1100     1        NA       1        NA     NA      \n",
       "  ⋯ SOFEMALE TRNSGNDR QSTVER QSTLANG _METSTAT _URBSTAT MSCODE _CHISPNC CAGEG\n",
       "1 ⋯ NA       NA       10     1       1        1        1      9        NA   \n",
       "2 ⋯ NA       NA       10     1       1        1        2      9        NA   \n",
       "3 ⋯ NA       NA       10     1       1        1        1      9        NA   \n",
       "4 ⋯ NA       NA       10     1       1        1        3      9        NA   \n",
       "5 ⋯ NA       NA       10     1       2        1        2      9        NA   \n",
       "6 ⋯ NA       NA       10     1       2        2        5      9        NA   \n",
       "  _AGE_G\n",
       "1 6     \n",
       "2 6     \n",
       "3 6     \n",
       "4 5     \n",
       "5 6     \n",
       "6 6     "
      ]
     },
     "metadata": {},
     "output_type": "display_data"
    }
   ],
   "source": [
    "# load the data file\n",
    "brf <- read_csv(\"data/brfss2021.csv\", show_col_types = FALSE)\n",
    "head(brf)\n"
   ]
  },
  {
   "cell_type": "markdown",
   "id": "92830737",
   "metadata": {},
   "source": [
    "------------------------------------------------------------------------"
   ]
  },
  {
   "cell_type": "markdown",
   "id": "d6de41b4",
   "metadata": {},
   "source": [
    "## Analysis "
   ]
  },
  {
   "cell_type": "markdown",
   "id": "64a7ed21",
   "metadata": {},
   "source": [
    "------------------------------------------------------------------------"
   ]
  },
  {
   "cell_type": "markdown",
   "id": "10b6ec04",
   "metadata": {},
   "source": [
    "### Key Variables Considered\n",
    "For this study, I am looking at employment status, whether or not a respondent is an e-cigarette smoker, whether or not they received the flu shot, and the score of how many negative mental health days they experience within the last 30 days.\n",
    "\n",
    "The goal is to see whether the respondents answers to the flu shot, e-cigarette use and employment status are predictors of mental health, and if so, which factors are the strongest."
   ]
  },
  {
   "cell_type": "code",
   "execution_count": 6,
   "id": "5e5afa0b",
   "metadata": {
    "vscode": {
     "languageId": "r"
    }
   },
   "outputs": [
    {
     "name": "stdout",
     "output_type": "stream",
     "text": [
      "spc_tbl_ [438,693 × 209] (S3: spec_tbl_df/tbl_df/tbl/data.frame)\n",
      " $ _STATE  : num [1:438693] 1 1 1 1 1 1 1 1 1 1 ...\n",
      " $ IMONTH  : chr [1:438693] \"01\" \"01\" \"01\" \"01\" ...\n",
      " $ IDAY    : chr [1:438693] \"19\" \"21\" \"21\" \"17\" ...\n",
      " $ IYEAR   : num [1:438693] 2021 2021 2021 2021 2021 ...\n",
      " $ DISPCODE: num [1:438693] 1100 1100 1100 1100 1100 1100 1100 1100 1100 1100 ...\n",
      " $ PVTRESD1: num [1:438693] 1 1 1 1 1 1 1 1 1 1 ...\n",
      " $ COLGHOUS: logi [1:438693] NA NA NA NA NA NA ...\n",
      " $ NUMADULT: num [1:438693] 2 2 2 2 2 1 2 1 1 2 ...\n",
      " $ NUMMEN  : num [1:438693] 1 1 1 1 1 NA 1 NA NA 1 ...\n",
      " $ NUMWOMEN: num [1:438693] 1 1 1 1 1 NA 1 NA NA 1 ...\n",
      " $ RESPSLCT: num [1:438693] 2 2 2 2 1 NA 1 NA NA 2 ...\n",
      " $ PVTRESD3: num [1:438693] NA NA NA NA NA NA NA NA NA NA ...\n",
      " $ CCLGHOUS: num [1:438693] NA NA NA NA NA NA NA NA NA NA ...\n",
      " $ LANDLINE: num [1:438693] NA NA NA NA NA NA NA NA NA NA ...\n",
      " $ HHADULT : num [1:438693] NA NA NA NA NA NA NA NA NA NA ...\n",
      " $ SEXVAR  : num [1:438693] 2 2 2 2 1 1 1 1 2 2 ...\n",
      " $ GENHLTH : num [1:438693] 5 3 2 2 5 3 3 4 2 3 ...\n",
      " $ PHYSHLTH: num [1:438693] 20 88 88 88 30 88 30 88 88 25 ...\n",
      " $ MENTHLTH: num [1:438693] 10 88 88 10 88 88 88 88 88 5 ...\n",
      " $ POORHLTH: num [1:438693] 88 NA NA 88 30 NA 2 NA NA 5 ...\n",
      " $ PRIMINSR: num [1:438693] 3 1 2 2 3 3 1 2 3 3 ...\n",
      " $ PERSDOC3: num [1:438693] 1 2 2 1 1 1 1 1 1 2 ...\n",
      " $ MEDCOST1: num [1:438693] 2 2 2 2 2 2 2 2 2 2 ...\n",
      " $ CHECKUP1: num [1:438693] 2 1 1 1 1 1 1 1 2 1 ...\n",
      " $ EXERANY2: num [1:438693] 2 1 2 1 1 2 2 1 2 1 ...\n",
      " $ BPHIGH6 : num [1:438693] 3 1 1 1 4 3 1 1 3 1 ...\n",
      " $ BPMEDS  : num [1:438693] NA 1 1 1 NA NA 1 1 NA 1 ...\n",
      " $ CHOLCHK3: num [1:438693] 2 2 2 2 2 2 2 2 2 2 ...\n",
      " $ TOLDHI3 : num [1:438693] 1 1 2 1 1 2 2 1 2 2 ...\n",
      " $ CHOLMED3: num [1:438693] 1 1 2 2 1 2 2 1 2 1 ...\n",
      " $ CVDINFR4: num [1:438693] 2 2 2 2 1 2 2 1 2 2 ...\n",
      " $ CVDCRHD4: num [1:438693] 2 1 1 2 7 2 2 1 2 2 ...\n",
      " $ CVDSTRK3: num [1:438693] 2 2 2 2 1 2 2 2 2 2 ...\n",
      " $ ASTHMA3 : num [1:438693] 1 2 2 2 2 2 2 2 2 2 ...\n",
      " $ ASTHNOW : num [1:438693] 1 NA NA NA NA NA NA NA NA NA ...\n",
      " $ CHCSCNCR: num [1:438693] 2 2 2 2 2 2 2 2 2 2 ...\n",
      " $ CHCOCNCR: num [1:438693] 2 2 2 2 2 2 2 2 2 2 ...\n",
      " $ CHCCOPD3: num [1:438693] 1 2 2 2 2 1 2 1 2 2 ...\n",
      " $ ADDEPEV3: num [1:438693] 2 2 2 2 2 2 1 2 2 2 ...\n",
      " $ CHCKDNY2: num [1:438693] 2 1 2 2 2 2 2 2 2 2 ...\n",
      " $ DIABETE4: num [1:438693] 3 1 1 1 1 3 3 3 3 3 ...\n",
      " $ DIABAGE3: num [1:438693] NA 98 98 56 65 NA NA NA NA NA ...\n",
      " $ HAVARTH5: num [1:438693] 1 1 2 2 2 2 1 1 2 1 ...\n",
      " $ ARTHEXER: num [1:438693] 2 1 NA NA NA NA 1 2 NA 1 ...\n",
      " $ ARTHEDU : num [1:438693] 2 2 NA NA NA NA 2 2 NA 2 ...\n",
      " $ LMTJOIN3: num [1:438693] 2 1 NA NA NA NA 1 2 NA 2 ...\n",
      " $ ARTHDIS2: num [1:438693] 1 1 NA NA NA NA 2 2 NA 2 ...\n",
      " $ JOINPAI2: num [1:438693] 8 10 NA NA NA NA 8 8 NA 4 ...\n",
      " $ MARITAL : num [1:438693] 1 9 3 1 1 1 1 2 2 1 ...\n",
      " $ EDUCA   : num [1:438693] 4 6 4 4 3 5 6 3 3 4 ...\n",
      " $ RENTHOM1: num [1:438693] 1 1 1 1 1 1 1 1 1 1 ...\n",
      " $ NUMHHOL3: num [1:438693] 1 2 2 2 2 2 2 2 2 2 ...\n",
      " $ NUMPHON3: num [1:438693] 1 NA NA NA NA NA NA NA NA NA ...\n",
      " $ CPDEMO1B: num [1:438693] 1 1 1 1 8 1 2 8 1 2 ...\n",
      " $ VETERAN3: num [1:438693] 2 2 2 2 2 2 2 2 2 2 ...\n",
      " $ EMPLOY1 : num [1:438693] 7 8 7 7 8 7 8 2 7 7 ...\n",
      " $ CHILDREN: num [1:438693] 88 88 88 88 88 88 88 88 88 88 ...\n",
      " $ INCOME3 : num [1:438693] 5 77 3 7 4 6 77 99 77 8 ...\n",
      " $ PREGNANT: num [1:438693] NA NA NA NA NA NA NA NA NA NA ...\n",
      " $ WEIGHT2 : num [1:438693] 72 7777 170 195 206 ...\n",
      " $ HEIGHT3 : num [1:438693] 411 506 505 504 511 603 600 509 503 505 ...\n",
      " $ DEAF    : num [1:438693] 2 2 2 2 1 2 1 2 2 2 ...\n",
      " $ BLIND   : num [1:438693] 2 1 2 2 2 2 2 2 2 2 ...\n",
      " $ DECIDE  : num [1:438693] 2 1 2 2 2 2 2 1 2 2 ...\n",
      " $ DIFFWALK: num [1:438693] 2 1 2 2 1 1 1 2 2 1 ...\n",
      " $ DIFFDRES: num [1:438693] 2 2 2 2 2 2 1 2 2 2 ...\n",
      " $ DIFFALON: num [1:438693] 1 1 2 2 2 2 1 2 1 2 ...\n",
      " $ SMOKE100: num [1:438693] 1 2 2 2 2 1 2 1 2 1 ...\n",
      " $ SMOKDAY2: num [1:438693] 3 NA NA NA NA 3 NA 3 NA 3 ...\n",
      " $ USENOW3 : num [1:438693] 3 3 3 3 2 2 3 3 3 3 ...\n",
      " $ ECIGNOW1: num [1:438693] 3 3 3 3 3 3 3 3 3 3 ...\n",
      " $ ALCDAY5 : num [1:438693] 888 888 888 101 888 888 888 888 888 203 ...\n",
      " $ AVEDRNK3: num [1:438693] NA NA NA 3 NA NA NA NA NA 2 ...\n",
      " $ DRNK3GE5: num [1:438693] NA NA NA 1 NA NA NA NA NA 88 ...\n",
      " $ MAXDRNKS: num [1:438693] NA NA NA 6 NA NA NA NA NA 2 ...\n",
      " $ FLUSHOT7: num [1:438693] 1 2 2 1 1 1 1 1 1 2 ...\n",
      " $ FLSHTMY3: num [1:438693] 92020 NA NA 102020 92020 ...\n",
      " $ IMFVPLA2: num [1:438693] 1 NA NA 1 1 5 1 1 1 NA ...\n",
      " $ PNEUVAC4: num [1:438693] 1 2 2 2 1 1 2 1 2 1 ...\n",
      " $ HIVTST7 : num [1:438693] 2 2 2 2 1 2 2 2 2 2 ...\n",
      " $ HIVTSTD3: num [1:438693] NA NA NA NA 777777 ...\n",
      " $ FRUIT2  : num [1:438693] 101 101 101 203 101 202 312 204 202 101 ...\n",
      " $ FRUITJU2: num [1:438693] 555 555 555 205 555 555 301 555 101 555 ...\n",
      " $ FVGREEN1: num [1:438693] 204 201 555 303 101 201 203 202 555 202 ...\n",
      " $ FRENCHF1: num [1:438693] 203 555 201 204 202 555 203 555 777 202 ...\n",
      " $ POTATOE1: num [1:438693] 201 201 201 308 202 201 302 204 555 203 ...\n",
      " $ VEGETAB2: num [1:438693] 101 207 203 205 101 201 202 204 202 204 ...\n",
      " $ PDIABTST: num [1:438693] 2 NA NA NA NA 2 1 1 1 1 ...\n",
      " $ PREDIAB1: num [1:438693] 3 NA NA NA NA 3 3 3 3 3 ...\n",
      " $ INSULIN1: num [1:438693] NA NA NA NA NA NA NA NA NA NA ...\n",
      " $ BLDSUGAR: num [1:438693] NA NA NA NA NA NA NA NA NA NA ...\n",
      " $ FEETCHK3: num [1:438693] NA NA NA NA NA NA NA NA NA NA ...\n",
      " $ DOCTDIAB: num [1:438693] NA NA NA NA NA NA NA NA NA NA ...\n",
      " $ CHKHEMO3: num [1:438693] NA NA NA NA NA NA NA NA NA NA ...\n",
      " $ FEETCHK : num [1:438693] NA NA NA NA NA NA NA NA NA NA ...\n",
      " $ EYEEXAM1: num [1:438693] NA NA NA NA NA NA NA NA NA NA ...\n",
      " $ DIABEYE : num [1:438693] NA NA NA NA NA NA NA NA NA NA ...\n",
      " $ DIABEDU : num [1:438693] NA NA NA NA NA NA NA NA NA NA ...\n",
      " $ TOLDCFS : logi [1:438693] NA NA NA NA NA NA ...\n",
      "  [list output truncated]\n",
      " - attr(*, \"spec\")=\n",
      "  .. cols(\n",
      "  ..   `_STATE` = \u001b[32mcol_double()\u001b[39m,\n",
      "  ..   IMONTH = \u001b[31mcol_character()\u001b[39m,\n",
      "  ..   IDAY = \u001b[31mcol_character()\u001b[39m,\n",
      "  ..   IYEAR = \u001b[32mcol_double()\u001b[39m,\n",
      "  ..   DISPCODE = \u001b[32mcol_double()\u001b[39m,\n",
      "  ..   PVTRESD1 = \u001b[32mcol_double()\u001b[39m,\n",
      "  ..   COLGHOUS = \u001b[33mcol_logical()\u001b[39m,\n",
      "  ..   NUMADULT = \u001b[32mcol_double()\u001b[39m,\n",
      "  ..   NUMMEN = \u001b[32mcol_double()\u001b[39m,\n",
      "  ..   NUMWOMEN = \u001b[32mcol_double()\u001b[39m,\n",
      "  ..   RESPSLCT = \u001b[32mcol_double()\u001b[39m,\n",
      "  ..   PVTRESD3 = \u001b[32mcol_double()\u001b[39m,\n",
      "  ..   CCLGHOUS = \u001b[32mcol_double()\u001b[39m,\n",
      "  ..   LANDLINE = \u001b[32mcol_double()\u001b[39m,\n",
      "  ..   HHADULT = \u001b[32mcol_double()\u001b[39m,\n",
      "  ..   SEXVAR = \u001b[32mcol_double()\u001b[39m,\n",
      "  ..   GENHLTH = \u001b[32mcol_double()\u001b[39m,\n",
      "  ..   PHYSHLTH = \u001b[32mcol_double()\u001b[39m,\n",
      "  ..   MENTHLTH = \u001b[32mcol_double()\u001b[39m,\n",
      "  ..   POORHLTH = \u001b[32mcol_double()\u001b[39m,\n",
      "  ..   PRIMINSR = \u001b[32mcol_double()\u001b[39m,\n",
      "  ..   PERSDOC3 = \u001b[32mcol_double()\u001b[39m,\n",
      "  ..   MEDCOST1 = \u001b[32mcol_double()\u001b[39m,\n",
      "  ..   CHECKUP1 = \u001b[32mcol_double()\u001b[39m,\n",
      "  ..   EXERANY2 = \u001b[32mcol_double()\u001b[39m,\n",
      "  ..   BPHIGH6 = \u001b[32mcol_double()\u001b[39m,\n",
      "  ..   BPMEDS = \u001b[32mcol_double()\u001b[39m,\n",
      "  ..   CHOLCHK3 = \u001b[32mcol_double()\u001b[39m,\n",
      "  ..   TOLDHI3 = \u001b[32mcol_double()\u001b[39m,\n",
      "  ..   CHOLMED3 = \u001b[32mcol_double()\u001b[39m,\n",
      "  ..   CVDINFR4 = \u001b[32mcol_double()\u001b[39m,\n",
      "  ..   CVDCRHD4 = \u001b[32mcol_double()\u001b[39m,\n",
      "  ..   CVDSTRK3 = \u001b[32mcol_double()\u001b[39m,\n",
      "  ..   ASTHMA3 = \u001b[32mcol_double()\u001b[39m,\n",
      "  ..   ASTHNOW = \u001b[32mcol_double()\u001b[39m,\n",
      "  ..   CHCSCNCR = \u001b[32mcol_double()\u001b[39m,\n",
      "  ..   CHCOCNCR = \u001b[32mcol_double()\u001b[39m,\n",
      "  ..   CHCCOPD3 = \u001b[32mcol_double()\u001b[39m,\n",
      "  ..   ADDEPEV3 = \u001b[32mcol_double()\u001b[39m,\n",
      "  ..   CHCKDNY2 = \u001b[32mcol_double()\u001b[39m,\n",
      "  ..   DIABETE4 = \u001b[32mcol_double()\u001b[39m,\n",
      "  ..   DIABAGE3 = \u001b[32mcol_double()\u001b[39m,\n",
      "  ..   HAVARTH5 = \u001b[32mcol_double()\u001b[39m,\n",
      "  ..   ARTHEXER = \u001b[32mcol_double()\u001b[39m,\n",
      "  ..   ARTHEDU = \u001b[32mcol_double()\u001b[39m,\n",
      "  ..   LMTJOIN3 = \u001b[32mcol_double()\u001b[39m,\n",
      "  ..   ARTHDIS2 = \u001b[32mcol_double()\u001b[39m,\n",
      "  ..   JOINPAI2 = \u001b[32mcol_double()\u001b[39m,\n",
      "  ..   MARITAL = \u001b[32mcol_double()\u001b[39m,\n",
      "  ..   EDUCA = \u001b[32mcol_double()\u001b[39m,\n",
      "  ..   RENTHOM1 = \u001b[32mcol_double()\u001b[39m,\n",
      "  ..   NUMHHOL3 = \u001b[32mcol_double()\u001b[39m,\n",
      "  ..   NUMPHON3 = \u001b[32mcol_double()\u001b[39m,\n",
      "  ..   CPDEMO1B = \u001b[32mcol_double()\u001b[39m,\n",
      "  ..   VETERAN3 = \u001b[32mcol_double()\u001b[39m,\n",
      "  ..   EMPLOY1 = \u001b[32mcol_double()\u001b[39m,\n",
      "  ..   CHILDREN = \u001b[32mcol_double()\u001b[39m,\n",
      "  ..   INCOME3 = \u001b[32mcol_double()\u001b[39m,\n",
      "  ..   PREGNANT = \u001b[32mcol_double()\u001b[39m,\n",
      "  ..   WEIGHT2 = \u001b[32mcol_double()\u001b[39m,\n",
      "  ..   HEIGHT3 = \u001b[32mcol_double()\u001b[39m,\n",
      "  ..   DEAF = \u001b[32mcol_double()\u001b[39m,\n",
      "  ..   BLIND = \u001b[32mcol_double()\u001b[39m,\n",
      "  ..   DECIDE = \u001b[32mcol_double()\u001b[39m,\n",
      "  ..   DIFFWALK = \u001b[32mcol_double()\u001b[39m,\n",
      "  ..   DIFFDRES = \u001b[32mcol_double()\u001b[39m,\n",
      "  ..   DIFFALON = \u001b[32mcol_double()\u001b[39m,\n",
      "  ..   SMOKE100 = \u001b[32mcol_double()\u001b[39m,\n",
      "  ..   SMOKDAY2 = \u001b[32mcol_double()\u001b[39m,\n",
      "  ..   USENOW3 = \u001b[32mcol_double()\u001b[39m,\n",
      "  ..   ECIGNOW1 = \u001b[32mcol_double()\u001b[39m,\n",
      "  ..   ALCDAY5 = \u001b[32mcol_double()\u001b[39m,\n",
      "  ..   AVEDRNK3 = \u001b[32mcol_double()\u001b[39m,\n",
      "  ..   DRNK3GE5 = \u001b[32mcol_double()\u001b[39m,\n",
      "  ..   MAXDRNKS = \u001b[32mcol_double()\u001b[39m,\n",
      "  ..   FLUSHOT7 = \u001b[32mcol_double()\u001b[39m,\n",
      "  ..   FLSHTMY3 = \u001b[32mcol_double()\u001b[39m,\n",
      "  ..   IMFVPLA2 = \u001b[32mcol_double()\u001b[39m,\n",
      "  ..   PNEUVAC4 = \u001b[32mcol_double()\u001b[39m,\n",
      "  ..   HIVTST7 = \u001b[32mcol_double()\u001b[39m,\n",
      "  ..   HIVTSTD3 = \u001b[32mcol_double()\u001b[39m,\n",
      "  ..   FRUIT2 = \u001b[32mcol_double()\u001b[39m,\n",
      "  ..   FRUITJU2 = \u001b[32mcol_double()\u001b[39m,\n",
      "  ..   FVGREEN1 = \u001b[32mcol_double()\u001b[39m,\n",
      "  ..   FRENCHF1 = \u001b[32mcol_double()\u001b[39m,\n",
      "  ..   POTATOE1 = \u001b[32mcol_double()\u001b[39m,\n",
      "  ..   VEGETAB2 = \u001b[32mcol_double()\u001b[39m,\n",
      "  ..   PDIABTST = \u001b[32mcol_double()\u001b[39m,\n",
      "  ..   PREDIAB1 = \u001b[32mcol_double()\u001b[39m,\n",
      "  ..   INSULIN1 = \u001b[32mcol_double()\u001b[39m,\n",
      "  ..   BLDSUGAR = \u001b[32mcol_double()\u001b[39m,\n",
      "  ..   FEETCHK3 = \u001b[32mcol_double()\u001b[39m,\n",
      "  ..   DOCTDIAB = \u001b[32mcol_double()\u001b[39m,\n",
      "  ..   CHKHEMO3 = \u001b[32mcol_double()\u001b[39m,\n",
      "  ..   FEETCHK = \u001b[32mcol_double()\u001b[39m,\n",
      "  ..   EYEEXAM1 = \u001b[32mcol_double()\u001b[39m,\n",
      "  ..   DIABEYE = \u001b[32mcol_double()\u001b[39m,\n",
      "  ..   DIABEDU = \u001b[32mcol_double()\u001b[39m,\n",
      "  ..   TOLDCFS = \u001b[33mcol_logical()\u001b[39m,\n",
      "  ..   HAVECFS = \u001b[33mcol_logical()\u001b[39m,\n",
      "  ..   WORKCFS = \u001b[33mcol_logical()\u001b[39m,\n",
      "  ..   TOLDHEPC = \u001b[32mcol_double()\u001b[39m,\n",
      "  ..   TRETHEPC = \u001b[33mcol_logical()\u001b[39m,\n",
      "  ..   PRIRHEPC = \u001b[33mcol_logical()\u001b[39m,\n",
      "  ..   HAVEHEPC = \u001b[33mcol_logical()\u001b[39m,\n",
      "  ..   HAVEHEPB = \u001b[32mcol_double()\u001b[39m,\n",
      "  ..   MEDSHEPB = \u001b[33mcol_logical()\u001b[39m,\n",
      "  ..   HPVADVC4 = \u001b[32mcol_double()\u001b[39m,\n",
      "  ..   HPVADSHT = \u001b[32mcol_double()\u001b[39m,\n",
      "  ..   TETANUS1 = \u001b[32mcol_double()\u001b[39m,\n",
      "  ..   SHINGLE2 = \u001b[32mcol_double()\u001b[39m,\n",
      "  ..   LCSFIRST = \u001b[32mcol_double()\u001b[39m,\n",
      "  ..   LCSLAST = \u001b[32mcol_double()\u001b[39m,\n",
      "  ..   LCSNUMCG = \u001b[32mcol_double()\u001b[39m,\n",
      "  ..   LCSCTSCN = \u001b[32mcol_double()\u001b[39m,\n",
      "  ..   HADMAM = \u001b[32mcol_double()\u001b[39m,\n",
      "  ..   HOWLONG = \u001b[32mcol_double()\u001b[39m,\n",
      "  ..   CERVSCRN = \u001b[32mcol_double()\u001b[39m,\n",
      "  ..   CRVCLCNC = \u001b[32mcol_double()\u001b[39m,\n",
      "  ..   CRVCLPAP = \u001b[32mcol_double()\u001b[39m,\n",
      "  ..   CRVCLHPV = \u001b[32mcol_double()\u001b[39m,\n",
      "  ..   HADHYST2 = \u001b[32mcol_double()\u001b[39m,\n",
      "  ..   PSATEST1 = \u001b[32mcol_double()\u001b[39m,\n",
      "  ..   PSATIME1 = \u001b[32mcol_double()\u001b[39m,\n",
      "  ..   PCPSARS2 = \u001b[32mcol_double()\u001b[39m,\n",
      "  ..   PCSTALK = \u001b[32mcol_double()\u001b[39m,\n",
      "  ..   HADSIGM4 = \u001b[32mcol_double()\u001b[39m,\n",
      "  ..   COLNSIGM = \u001b[32mcol_double()\u001b[39m,\n",
      "  ..   COLNTES1 = \u001b[32mcol_double()\u001b[39m,\n",
      "  ..   SIGMTES1 = \u001b[32mcol_double()\u001b[39m,\n",
      "  ..   LASTSIG4 = \u001b[32mcol_double()\u001b[39m,\n",
      "  ..   COLNCNCR = \u001b[32mcol_double()\u001b[39m,\n",
      "  ..   VIRCOLO1 = \u001b[32mcol_double()\u001b[39m,\n",
      "  ..   VCLNTES1 = \u001b[33mcol_logical()\u001b[39m,\n",
      "  ..   SMALSTOL = \u001b[32mcol_double()\u001b[39m,\n",
      "  ..   STOLTEST = \u001b[32mcol_double()\u001b[39m,\n",
      "  ..   STOOLDN1 = \u001b[32mcol_double()\u001b[39m,\n",
      "  ..   BLDSTFIT = \u001b[33mcol_logical()\u001b[39m,\n",
      "  ..   SDNATES1 = \u001b[33mcol_logical()\u001b[39m,\n",
      "  ..   CNCRDIFF = \u001b[32mcol_double()\u001b[39m,\n",
      "  ..   CNCRAGE = \u001b[32mcol_double()\u001b[39m,\n",
      "  ..   CNCRTYP1 = \u001b[32mcol_double()\u001b[39m,\n",
      "  ..   CSRVTRT3 = \u001b[32mcol_double()\u001b[39m,\n",
      "  ..   CSRVDOC1 = \u001b[32mcol_double()\u001b[39m,\n",
      "  ..   CSRVSUM = \u001b[32mcol_double()\u001b[39m,\n",
      "  ..   CSRVRTRN = \u001b[32mcol_double()\u001b[39m,\n",
      "  ..   CSRVINST = \u001b[32mcol_double()\u001b[39m,\n",
      "  ..   CSRVINSR = \u001b[32mcol_double()\u001b[39m,\n",
      "  ..   CSRVDEIN = \u001b[32mcol_double()\u001b[39m,\n",
      "  ..   CSRVCLIN = \u001b[32mcol_double()\u001b[39m,\n",
      "  ..   CSRVPAIN = \u001b[32mcol_double()\u001b[39m,\n",
      "  ..   CSRVCTL2 = \u001b[32mcol_double()\u001b[39m,\n",
      "  ..   HOMBPCHK = \u001b[32mcol_double()\u001b[39m,\n",
      "  ..   HOMRGCHK = \u001b[32mcol_double()\u001b[39m,\n",
      "  ..   WHEREBP = \u001b[32mcol_double()\u001b[39m,\n",
      "  ..   SHAREBP = \u001b[32mcol_double()\u001b[39m,\n",
      "  ..   WTCHSALT = \u001b[32mcol_double()\u001b[39m,\n",
      "  ..   DRADVISE = \u001b[32mcol_double()\u001b[39m,\n",
      "  ..   CIMEMLOS = \u001b[32mcol_double()\u001b[39m,\n",
      "  ..   CDHOUSE = \u001b[32mcol_double()\u001b[39m,\n",
      "  ..   CDASSIST = \u001b[32mcol_double()\u001b[39m,\n",
      "  ..   CDHELP = \u001b[32mcol_double()\u001b[39m,\n",
      "  ..   CDSOCIAL = \u001b[32mcol_double()\u001b[39m,\n",
      "  ..   CDDISCUS = \u001b[32mcol_double()\u001b[39m,\n",
      "  ..   CAREGIV1 = \u001b[32mcol_double()\u001b[39m,\n",
      "  ..   CRGVREL4 = \u001b[32mcol_double()\u001b[39m,\n",
      "  ..   CRGVLNG1 = \u001b[32mcol_double()\u001b[39m,\n",
      "  ..   CRGVHRS1 = \u001b[32mcol_double()\u001b[39m,\n",
      "  ..   CRGVPRB3 = \u001b[32mcol_double()\u001b[39m,\n",
      "  ..   CRGVALZD = \u001b[32mcol_double()\u001b[39m,\n",
      "  ..   CRGVPER1 = \u001b[32mcol_double()\u001b[39m,\n",
      "  ..   CRGVHOU1 = \u001b[32mcol_double()\u001b[39m,\n",
      "  ..   CRGVEXPT = \u001b[32mcol_double()\u001b[39m,\n",
      "  ..   ACEDEPRS = \u001b[32mcol_double()\u001b[39m,\n",
      "  ..   ACEDRINK = \u001b[32mcol_double()\u001b[39m,\n",
      "  ..   ACEDRUGS = \u001b[32mcol_double()\u001b[39m,\n",
      "  ..   ACEPRISN = \u001b[32mcol_double()\u001b[39m,\n",
      "  ..   ACEDIVRC = \u001b[32mcol_double()\u001b[39m,\n",
      "  ..   ACEPUNCH = \u001b[32mcol_double()\u001b[39m,\n",
      "  ..   ACEHURT1 = \u001b[32mcol_double()\u001b[39m,\n",
      "  ..   ACESWEAR = \u001b[32mcol_double()\u001b[39m,\n",
      "  ..   ACETOUCH = \u001b[32mcol_double()\u001b[39m,\n",
      "  ..   ACETTHEM = \u001b[32mcol_double()\u001b[39m,\n",
      "  ..   ACEHVSEX = \u001b[32mcol_double()\u001b[39m,\n",
      "  ..   ACEADSAF = \u001b[32mcol_double()\u001b[39m,\n",
      "  ..   ACEADNED = \u001b[32mcol_double()\u001b[39m,\n",
      "  ..   MARIJAN1 = \u001b[32mcol_double()\u001b[39m,\n",
      "  ..   RSNMRJN2 = \u001b[32mcol_double()\u001b[39m,\n",
      "  ..   LASTSMK2 = \u001b[32mcol_double()\u001b[39m,\n",
      "  ..   STOPSMK2 = \u001b[32mcol_double()\u001b[39m,\n",
      "  ..   FIREARM5 = \u001b[32mcol_double()\u001b[39m,\n",
      "  ..   GUNLOAD = \u001b[32mcol_double()\u001b[39m,\n",
      "  ..   LOADULK2 = \u001b[32mcol_double()\u001b[39m,\n",
      "  ..   RCSGENDR = \u001b[32mcol_double()\u001b[39m,\n",
      "  ..   RCSRLTN2 = \u001b[32mcol_double()\u001b[39m,\n",
      "  ..   CASTHDX2 = \u001b[32mcol_double()\u001b[39m,\n",
      "  ..   CASTHNO2 = \u001b[32mcol_double()\u001b[39m,\n",
      "  ..   BIRTHSEX = \u001b[32mcol_double()\u001b[39m,\n",
      "  ..   SOMALE = \u001b[32mcol_double()\u001b[39m,\n",
      "  ..   SOFEMALE = \u001b[32mcol_double()\u001b[39m,\n",
      "  ..   TRNSGNDR = \u001b[32mcol_double()\u001b[39m,\n",
      "  ..   QSTVER = \u001b[32mcol_double()\u001b[39m,\n",
      "  ..   QSTLANG = \u001b[32mcol_double()\u001b[39m,\n",
      "  ..   `_METSTAT` = \u001b[32mcol_double()\u001b[39m,\n",
      "  ..   `_URBSTAT` = \u001b[32mcol_double()\u001b[39m,\n",
      "  ..   MSCODE = \u001b[32mcol_double()\u001b[39m,\n",
      "  ..   `_CHISPNC` = \u001b[32mcol_double()\u001b[39m,\n",
      "  ..   CAGEG = \u001b[32mcol_double()\u001b[39m,\n",
      "  ..   `_AGE_G` = \u001b[32mcol_double()\u001b[39m\n",
      "  .. )\n",
      " - attr(*, \"problems\")=<externalptr> \n"
     ]
    },
    {
     "data": {
      "text/plain": [
       "   Min. 1st Qu.  Median    Mean 3rd Qu.    Max.    NA's \n",
       "   1.00   15.00   88.00   59.92   88.00   99.00       2 "
      ]
     },
     "metadata": {},
     "output_type": "display_data"
    },
    {
     "data": {
      "text/plain": [
       "   Min. 1st Qu.  Median    Mean 3rd Qu.    Max.    NA's \n",
       "  1.000   1.000   1.000   1.536   2.000   9.000   27648 "
      ]
     },
     "metadata": {},
     "output_type": "display_data"
    },
    {
     "data": {
      "text/plain": [
       "   Min. 1st Qu.  Median    Mean 3rd Qu.    Max.    NA's \n",
       "  1.000   3.000   3.000   3.146   3.000   9.000   23025 "
      ]
     },
     "metadata": {},
     "output_type": "display_data"
    },
    {
     "data": {
      "text/plain": [
       "   Min. 1st Qu.  Median    Mean 3rd Qu.    Max.    NA's \n",
       "  1.000   1.000   2.000   3.804   7.000   9.000    3588 "
      ]
     },
     "metadata": {},
     "output_type": "display_data"
    },
    {
     "data": {
      "text/html": [
       "<table class=\"dataframe\">\n",
       "<caption>A tibble: 10 × 4</caption>\n",
       "<thead>\n",
       "\t<tr><th scope=col>MENTHLTH</th><th scope=col>FLUSHOT7</th><th scope=col>ECIGNOW1</th><th scope=col>EMPLOY1</th></tr>\n",
       "\t<tr><th scope=col>&lt;dbl&gt;</th><th scope=col>&lt;dbl&gt;</th><th scope=col>&lt;dbl&gt;</th><th scope=col>&lt;dbl&gt;</th></tr>\n",
       "</thead>\n",
       "<tbody>\n",
       "\t<tr><td>10</td><td>1</td><td>3</td><td>7</td></tr>\n",
       "\t<tr><td>88</td><td>2</td><td>3</td><td>8</td></tr>\n",
       "\t<tr><td>88</td><td>2</td><td>3</td><td>7</td></tr>\n",
       "\t<tr><td>10</td><td>1</td><td>3</td><td>7</td></tr>\n",
       "\t<tr><td>88</td><td>1</td><td>3</td><td>8</td></tr>\n",
       "\t<tr><td>88</td><td>1</td><td>3</td><td>7</td></tr>\n",
       "\t<tr><td>88</td><td>1</td><td>3</td><td>8</td></tr>\n",
       "\t<tr><td>88</td><td>1</td><td>3</td><td>2</td></tr>\n",
       "\t<tr><td>88</td><td>1</td><td>3</td><td>7</td></tr>\n",
       "\t<tr><td> 5</td><td>2</td><td>3</td><td>7</td></tr>\n",
       "</tbody>\n",
       "</table>\n"
      ],
      "text/latex": [
       "A tibble: 10 × 4\n",
       "\\begin{tabular}{llll}\n",
       " MENTHLTH & FLUSHOT7 & ECIGNOW1 & EMPLOY1\\\\\n",
       " <dbl> & <dbl> & <dbl> & <dbl>\\\\\n",
       "\\hline\n",
       "\t 10 & 1 & 3 & 7\\\\\n",
       "\t 88 & 2 & 3 & 8\\\\\n",
       "\t 88 & 2 & 3 & 7\\\\\n",
       "\t 10 & 1 & 3 & 7\\\\\n",
       "\t 88 & 1 & 3 & 8\\\\\n",
       "\t 88 & 1 & 3 & 7\\\\\n",
       "\t 88 & 1 & 3 & 8\\\\\n",
       "\t 88 & 1 & 3 & 2\\\\\n",
       "\t 88 & 1 & 3 & 7\\\\\n",
       "\t  5 & 2 & 3 & 7\\\\\n",
       "\\end{tabular}\n"
      ],
      "text/markdown": [
       "\n",
       "A tibble: 10 × 4\n",
       "\n",
       "| MENTHLTH &lt;dbl&gt; | FLUSHOT7 &lt;dbl&gt; | ECIGNOW1 &lt;dbl&gt; | EMPLOY1 &lt;dbl&gt; |\n",
       "|---|---|---|---|\n",
       "| 10 | 1 | 3 | 7 |\n",
       "| 88 | 2 | 3 | 8 |\n",
       "| 88 | 2 | 3 | 7 |\n",
       "| 10 | 1 | 3 | 7 |\n",
       "| 88 | 1 | 3 | 8 |\n",
       "| 88 | 1 | 3 | 7 |\n",
       "| 88 | 1 | 3 | 8 |\n",
       "| 88 | 1 | 3 | 2 |\n",
       "| 88 | 1 | 3 | 7 |\n",
       "|  5 | 2 | 3 | 7 |\n",
       "\n"
      ],
      "text/plain": [
       "   MENTHLTH FLUSHOT7 ECIGNOW1 EMPLOY1\n",
       "1  10       1        3        7      \n",
       "2  88       2        3        8      \n",
       "3  88       2        3        7      \n",
       "4  10       1        3        7      \n",
       "5  88       1        3        8      \n",
       "6  88       1        3        7      \n",
       "7  88       1        3        8      \n",
       "8  88       1        3        2      \n",
       "9  88       1        3        7      \n",
       "10  5       2        3        7      "
      ]
     },
     "metadata": {},
     "output_type": "display_data"
    }
   ],
   "source": [
    "\n",
    "# viewing the stucture of the dataset\n",
    "str(brf)\n",
    "\n",
    "# MENTHLTH\n",
    "# FLUSHOT7\n",
    "# ECIGNOW1\n",
    "# EMPLOY1\n",
    "\n",
    "# checking out summary statistics per variable\n",
    "summary(brf$MENTHLTH)\n",
    "summary(brf$FLUSHOT7)\n",
    "summary(brf$ECIGNOW1)\n",
    "summary(brf$EMPLOY1)\n",
    "\n",
    "# selecting a subset of the data for the variables in question\n",
    "brf |>\n",
    "  select(MENTHLTH, FLUSHOT7, ECIGNOW1, EMPLOY1) |>\n",
    "  head(10)\n"
   ]
  },
  {
   "cell_type": "markdown",
   "id": "fd51bc79",
   "metadata": {},
   "source": [
    "### Variable Overview "
   ]
  },
  {
   "cell_type": "markdown",
   "id": "f069a4c4",
   "metadata": {},
   "source": [
    "#### MENTHLTH\n",
    "`MENTHLTH` is a discrete variable allowing values for 1-30 along with a few out of range values that indicate the respondent didn't answer, doesn't know, or has not experienced poor mental health in the last 30 days.\n",
    "\n",
    "**Definition:** How many days during the past 30 days the respondent's mental health was not good  \n",
    "**Levels:** \n",
    "- 1-30. number of days the responent's mental health was not good within the last 30 days\n",
    "- 88. None (if the responent responded \"none\" or \"never\"), represents 0\n",
    "- 77. Don't know/ Not sure\n",
    "- 99. Refused to answer"
   ]
  },
  {
   "cell_type": "markdown",
   "id": "8d4175f8",
   "metadata": {},
   "source": [
    "#### FLUSHOT7\n",
    "`FLUSHOT7` is a categorical variable that describes whether the respondent received the flu shot.\n",
    "\n",
    "**Definition:** Whether the responent received the flu shot within the last 12 months.  \n",
    "**Levels:**\n",
    "- 1. Yes\n",
    "- 2. No\n",
    "- 7. Don't know/ Not sure\n",
    "- 9. Refused to answer\n"
   ]
  },
  {
   "cell_type": "markdown",
   "id": "c5cd616f",
   "metadata": {},
   "source": [
    "#### ECIGNOW1\n",
    "`ECIGNOW1` is a categorical variable that shows how often (if at all) the respondent uses e-cigarettes.\n",
    "**Definition:** If/ how often the respondent uses e-cigarettes now.  \n",
    "**Levels:**\n",
    "- 1. Every day\n",
    "- 2. Some days\n",
    "- 3. Not at all (given that the question says *now*, this could indicate the respondent has used e-cigs in the past, but currently does not)\n",
    "- 4. Never used e-cigarettes\n",
    "- 7. Don't know/ Not sure\n",
    "- 9. Refused"
   ]
  },
  {
   "cell_type": "markdown",
   "id": "db9dfb9e",
   "metadata": {},
   "source": [
    "#### EMPLOY1\n",
    "`EMPLOY1` is a categorical variable that describes the respondent's employment status.\n",
    "**Definition:** The category of the respondent's employment status.  \n",
    "**Levels:**  \n",
    "- 1. Employed for wages\n",
    "- 2. Self-employed\n",
    "- 3. Out of work for 1 year or more\n",
    "- 4. Out of work for less than 1 year\n",
    "- 5. Homemaker\n",
    "- 6. Student\n",
    "- 7. Retired\n",
    "- 8. Unable to work\n",
    "- 9. Refused to answer"
   ]
  },
  {
   "cell_type": "markdown",
   "id": "f88c3cb9",
   "metadata": {},
   "source": [
    "### Cleaning and removing outliers and NA values\n",
    "To improve data quality and ensure analytical integrity, I am cleaning the dataset by addressing missing values and excluding outliers."
   ]
  },
  {
   "cell_type": "code",
   "execution_count": 7,
   "id": "987d0be9",
   "metadata": {
    "vscode": {
     "languageId": "r"
    }
   },
   "outputs": [
    {
     "data": {
      "text/plain": [
       "   Min. 1st Qu.  Median    Mean 3rd Qu.    Max.    NA's \n",
       "   1.00   15.00   88.00   59.92   88.00   99.00       2 "
      ]
     },
     "metadata": {},
     "output_type": "display_data"
    },
    {
     "data": {
      "text/plain": [
       "   Min. 1st Qu.  Median    Mean 3rd Qu.    Max.    NA's \n",
       "  1.000   1.000   1.000   1.536   2.000   9.000   27648 "
      ]
     },
     "metadata": {},
     "output_type": "display_data"
    },
    {
     "data": {
      "text/plain": [
       "   Min. 1st Qu.  Median    Mean 3rd Qu.    Max.    NA's \n",
       "  1.000   3.000   3.000   3.146   3.000   9.000   23025 "
      ]
     },
     "metadata": {},
     "output_type": "display_data"
    },
    {
     "data": {
      "text/plain": [
       "   Min. 1st Qu.  Median    Mean 3rd Qu.    Max.    NA's \n",
       "  1.000   1.000   2.000   3.804   7.000   9.000    3588 "
      ]
     },
     "metadata": {},
     "output_type": "display_data"
    },
    {
     "data": {
      "text/html": [
       "<style>\n",
       ".list-inline {list-style: none; margin:0; padding: 0}\n",
       ".list-inline>li {display: inline-block}\n",
       ".list-inline>li:not(:last-child)::after {content: \"\\00b7\"; padding: 0 .5ex}\n",
       "</style>\n",
       "<ol class=list-inline><li>10</li><li>88</li><li>5</li><li>25</li><li>15</li><li>77</li><li>14</li><li>2</li><li>3</li><li>7</li><li>1</li><li>30</li><li>20</li><li>8</li><li>4</li><li>&lt;NA&gt;</li><li>99</li><li>21</li><li>28</li><li>24</li><li>6</li><li>12</li><li>22</li><li>27</li><li>9</li><li>18</li><li>13</li><li>17</li><li>16</li><li>19</li><li>29</li><li>11</li><li>23</li><li>26</li></ol>\n"
      ],
      "text/latex": [
       "\\begin{enumerate*}\n",
       "\\item 10\n",
       "\\item 88\n",
       "\\item 5\n",
       "\\item 25\n",
       "\\item 15\n",
       "\\item 77\n",
       "\\item 14\n",
       "\\item 2\n",
       "\\item 3\n",
       "\\item 7\n",
       "\\item 1\n",
       "\\item 30\n",
       "\\item 20\n",
       "\\item 8\n",
       "\\item 4\n",
       "\\item <NA>\n",
       "\\item 99\n",
       "\\item 21\n",
       "\\item 28\n",
       "\\item 24\n",
       "\\item 6\n",
       "\\item 12\n",
       "\\item 22\n",
       "\\item 27\n",
       "\\item 9\n",
       "\\item 18\n",
       "\\item 13\n",
       "\\item 17\n",
       "\\item 16\n",
       "\\item 19\n",
       "\\item 29\n",
       "\\item 11\n",
       "\\item 23\n",
       "\\item 26\n",
       "\\end{enumerate*}\n"
      ],
      "text/markdown": [
       "1. 10\n",
       "2. 88\n",
       "3. 5\n",
       "4. 25\n",
       "5. 15\n",
       "6. 77\n",
       "7. 14\n",
       "8. 2\n",
       "9. 3\n",
       "10. 7\n",
       "11. 1\n",
       "12. 30\n",
       "13. 20\n",
       "14. 8\n",
       "15. 4\n",
       "16. &lt;NA&gt;\n",
       "17. 99\n",
       "18. 21\n",
       "19. 28\n",
       "20. 24\n",
       "21. 6\n",
       "22. 12\n",
       "23. 22\n",
       "24. 27\n",
       "25. 9\n",
       "26. 18\n",
       "27. 13\n",
       "28. 17\n",
       "29. 16\n",
       "30. 19\n",
       "31. 29\n",
       "32. 11\n",
       "33. 23\n",
       "34. 26\n",
       "\n",
       "\n"
      ],
      "text/plain": [
       " [1] 10 88  5 25 15 77 14  2  3  7  1 30 20  8  4 NA 99 21 28 24  6 12 22 27  9\n",
       "[26] 18 13 17 16 19 29 11 23 26"
      ]
     },
     "metadata": {},
     "output_type": "display_data"
    },
    {
     "data": {
      "text/html": [
       "<style>\n",
       ".list-inline {list-style: none; margin:0; padding: 0}\n",
       ".list-inline>li {display: inline-block}\n",
       ".list-inline>li:not(:last-child)::after {content: \"\\00b7\"; padding: 0 .5ex}\n",
       "</style>\n",
       "<ol class=list-inline><li>1</li><li>2</li><li>&lt;NA&gt;</li><li>7</li><li>9</li></ol>\n"
      ],
      "text/latex": [
       "\\begin{enumerate*}\n",
       "\\item 1\n",
       "\\item 2\n",
       "\\item <NA>\n",
       "\\item 7\n",
       "\\item 9\n",
       "\\end{enumerate*}\n"
      ],
      "text/markdown": [
       "1. 1\n",
       "2. 2\n",
       "3. &lt;NA&gt;\n",
       "4. 7\n",
       "5. 9\n",
       "\n",
       "\n"
      ],
      "text/plain": [
       "[1]  1  2 NA  7  9"
      ]
     },
     "metadata": {},
     "output_type": "display_data"
    },
    {
     "data": {
      "text/html": [
       "<style>\n",
       ".list-inline {list-style: none; margin:0; padding: 0}\n",
       ".list-inline>li {display: inline-block}\n",
       ".list-inline>li:not(:last-child)::after {content: \"\\00b7\"; padding: 0 .5ex}\n",
       "</style>\n",
       "<ol class=list-inline><li>3</li><li>&lt;NA&gt;</li><li>4</li><li>1</li><li>2</li><li>9</li><li>7</li></ol>\n"
      ],
      "text/latex": [
       "\\begin{enumerate*}\n",
       "\\item 3\n",
       "\\item <NA>\n",
       "\\item 4\n",
       "\\item 1\n",
       "\\item 2\n",
       "\\item 9\n",
       "\\item 7\n",
       "\\end{enumerate*}\n"
      ],
      "text/markdown": [
       "1. 3\n",
       "2. &lt;NA&gt;\n",
       "3. 4\n",
       "4. 1\n",
       "5. 2\n",
       "6. 9\n",
       "7. 7\n",
       "\n",
       "\n"
      ],
      "text/plain": [
       "[1]  3 NA  4  1  2  9  7"
      ]
     },
     "metadata": {},
     "output_type": "display_data"
    },
    {
     "data": {
      "text/html": [
       "<style>\n",
       ".list-inline {list-style: none; margin:0; padding: 0}\n",
       ".list-inline>li {display: inline-block}\n",
       ".list-inline>li:not(:last-child)::after {content: \"\\00b7\"; padding: 0 .5ex}\n",
       "</style>\n",
       "<ol class=list-inline><li>7</li><li>8</li><li>2</li><li>5</li><li>1</li><li>6</li><li>4</li><li>&lt;NA&gt;</li><li>3</li><li>9</li></ol>\n"
      ],
      "text/latex": [
       "\\begin{enumerate*}\n",
       "\\item 7\n",
       "\\item 8\n",
       "\\item 2\n",
       "\\item 5\n",
       "\\item 1\n",
       "\\item 6\n",
       "\\item 4\n",
       "\\item <NA>\n",
       "\\item 3\n",
       "\\item 9\n",
       "\\end{enumerate*}\n"
      ],
      "text/markdown": [
       "1. 7\n",
       "2. 8\n",
       "3. 2\n",
       "4. 5\n",
       "5. 1\n",
       "6. 6\n",
       "7. 4\n",
       "8. &lt;NA&gt;\n",
       "9. 3\n",
       "10. 9\n",
       "\n",
       "\n"
      ],
      "text/plain": [
       " [1]  7  8  2  5  1  6  4 NA  3  9"
      ]
     },
     "metadata": {},
     "output_type": "display_data"
    },
    {
     "data": {
      "text/plain": [
       "   Min. 1st Qu.  Median    Mean 3rd Qu.    Max.    NA's \n",
       "  0.000   0.000   0.000   4.104   4.000  30.000       2 "
      ]
     },
     "metadata": {},
     "output_type": "display_data"
    },
    {
     "data": {
      "text/html": [
       "<style>\n",
       ".list-inline {list-style: none; margin:0; padding: 0}\n",
       ".list-inline>li {display: inline-block}\n",
       ".list-inline>li:not(:last-child)::after {content: \"\\00b7\"; padding: 0 .5ex}\n",
       "</style>\n",
       "<ol class=list-inline><li>1</li><li>0</li><li>&lt;NA&gt;</li></ol>\n"
      ],
      "text/latex": [
       "\\begin{enumerate*}\n",
       "\\item 1\n",
       "\\item 0\n",
       "\\item <NA>\n",
       "\\end{enumerate*}\n"
      ],
      "text/markdown": [
       "1. 1\n",
       "2. 0\n",
       "3. &lt;NA&gt;\n",
       "\n",
       "\n"
      ],
      "text/plain": [
       "[1]  1  0 NA"
      ]
     },
     "metadata": {},
     "output_type": "display_data"
    },
    {
     "data": {
      "text/html": [
       "<style>\n",
       ".list-inline {list-style: none; margin:0; padding: 0}\n",
       ".list-inline>li {display: inline-block}\n",
       ".list-inline>li:not(:last-child)::after {content: \"\\00b7\"; padding: 0 .5ex}\n",
       "</style>\n",
       "<ol class=list-inline><li>0</li><li>1</li><li>&lt;NA&gt;</li></ol>\n"
      ],
      "text/latex": [
       "\\begin{enumerate*}\n",
       "\\item 0\n",
       "\\item 1\n",
       "\\item <NA>\n",
       "\\end{enumerate*}\n"
      ],
      "text/markdown": [
       "1. 0\n",
       "2. 1\n",
       "3. &lt;NA&gt;\n",
       "\n",
       "\n"
      ],
      "text/plain": [
       "[1]  0  1 NA"
      ]
     },
     "metadata": {},
     "output_type": "display_data"
    },
    {
     "data": {
      "text/html": [
       "0"
      ],
      "text/latex": [
       "0"
      ],
      "text/markdown": [
       "0"
      ],
      "text/plain": [
       "[1] 0"
      ]
     },
     "metadata": {},
     "output_type": "display_data"
    },
    {
     "data": {
      "text/html": [
       "0.0539223520039308"
      ],
      "text/latex": [
       "0.0539223520039308"
      ],
      "text/markdown": [
       "0.0539223520039308"
      ],
      "text/plain": [
       "[1] 0.05392235"
      ]
     },
     "metadata": {},
     "output_type": "display_data"
    },
    {
     "data": {
      "text/html": [
       "0.0434703793193099"
      ],
      "text/latex": [
       "0.0434703793193099"
      ],
      "text/markdown": [
       "0.0434703793193099"
      ],
      "text/plain": [
       "[1] 0.04347038"
      ]
     },
     "metadata": {},
     "output_type": "display_data"
    },
    {
     "data": {
      "text/html": [
       "0"
      ],
      "text/latex": [
       "0"
      ],
      "text/markdown": [
       "0"
      ],
      "text/plain": [
       "[1] 0"
      ]
     },
     "metadata": {},
     "output_type": "display_data"
    },
    {
     "data": {
      "text/html": [
       "<table class=\"dataframe\">\n",
       "<caption>A tibble: 10 × 4</caption>\n",
       "<thead>\n",
       "\t<tr><th scope=col>MENTHLTH</th><th scope=col>FLUSHOT</th><th scope=col>ECIGUSER</th><th scope=col>EMPLOY</th></tr>\n",
       "\t<tr><th scope=col>&lt;dbl&gt;</th><th scope=col>&lt;dbl&gt;</th><th scope=col>&lt;dbl&gt;</th><th scope=col>&lt;fct&gt;</th></tr>\n",
       "</thead>\n",
       "<tbody>\n",
       "\t<tr><td>10</td><td>1</td><td>0</td><td>Retired       </td></tr>\n",
       "\t<tr><td> 0</td><td>0</td><td>0</td><td>Unable to work</td></tr>\n",
       "\t<tr><td> 0</td><td>0</td><td>0</td><td>Retired       </td></tr>\n",
       "\t<tr><td>10</td><td>1</td><td>0</td><td>Retired       </td></tr>\n",
       "\t<tr><td> 0</td><td>1</td><td>0</td><td>Unable to work</td></tr>\n",
       "\t<tr><td> 0</td><td>1</td><td>0</td><td>Retired       </td></tr>\n",
       "\t<tr><td> 0</td><td>1</td><td>0</td><td>Unable to work</td></tr>\n",
       "\t<tr><td> 0</td><td>1</td><td>0</td><td>Self-employed </td></tr>\n",
       "\t<tr><td> 0</td><td>1</td><td>0</td><td>Retired       </td></tr>\n",
       "\t<tr><td> 5</td><td>0</td><td>0</td><td>Retired       </td></tr>\n",
       "</tbody>\n",
       "</table>\n"
      ],
      "text/latex": [
       "A tibble: 10 × 4\n",
       "\\begin{tabular}{llll}\n",
       " MENTHLTH & FLUSHOT & ECIGUSER & EMPLOY\\\\\n",
       " <dbl> & <dbl> & <dbl> & <fct>\\\\\n",
       "\\hline\n",
       "\t 10 & 1 & 0 & Retired       \\\\\n",
       "\t  0 & 0 & 0 & Unable to work\\\\\n",
       "\t  0 & 0 & 0 & Retired       \\\\\n",
       "\t 10 & 1 & 0 & Retired       \\\\\n",
       "\t  0 & 1 & 0 & Unable to work\\\\\n",
       "\t  0 & 1 & 0 & Retired       \\\\\n",
       "\t  0 & 1 & 0 & Unable to work\\\\\n",
       "\t  0 & 1 & 0 & Self-employed \\\\\n",
       "\t  0 & 1 & 0 & Retired       \\\\\n",
       "\t  5 & 0 & 0 & Retired       \\\\\n",
       "\\end{tabular}\n"
      ],
      "text/markdown": [
       "\n",
       "A tibble: 10 × 4\n",
       "\n",
       "| MENTHLTH &lt;dbl&gt; | FLUSHOT &lt;dbl&gt; | ECIGUSER &lt;dbl&gt; | EMPLOY &lt;fct&gt; |\n",
       "|---|---|---|---|\n",
       "| 10 | 1 | 0 | Retired        |\n",
       "|  0 | 0 | 0 | Unable to work |\n",
       "|  0 | 0 | 0 | Retired        |\n",
       "| 10 | 1 | 0 | Retired        |\n",
       "|  0 | 1 | 0 | Unable to work |\n",
       "|  0 | 1 | 0 | Retired        |\n",
       "|  0 | 1 | 0 | Unable to work |\n",
       "|  0 | 1 | 0 | Self-employed  |\n",
       "|  0 | 1 | 0 | Retired        |\n",
       "|  5 | 0 | 0 | Retired        |\n",
       "\n"
      ],
      "text/plain": [
       "   MENTHLTH FLUSHOT ECIGUSER EMPLOY        \n",
       "1  10       1       0        Retired       \n",
       "2   0       0       0        Unable to work\n",
       "3   0       0       0        Retired       \n",
       "4  10       1       0        Retired       \n",
       "5   0       1       0        Unable to work\n",
       "6   0       1       0        Retired       \n",
       "7   0       1       0        Unable to work\n",
       "8   0       1       0        Self-employed \n",
       "9   0       1       0        Retired       \n",
       "10  5       0       0        Retired       "
      ]
     },
     "metadata": {},
     "output_type": "display_data"
    }
   ],
   "source": [
    "# viewing summary statistics for each variable\n",
    "summary(brf$MENTHLTH)\n",
    "summary(brf$FLUSHOT7)\n",
    "summary(brf$ECIGNOW1)\n",
    "summary(brf$EMPLOY1)\n",
    "\n",
    "# checking out unique values for each variable\n",
    "unique(brf$MENTHLTH)\n",
    "unique(brf$FLUSHOT7)\n",
    "unique(brf$ECIGNOW1)\n",
    "unique(brf$EMPLOY1)\n",
    "\n",
    "################################\n",
    "# cleaning and removing outliers\n",
    "################################\n",
    "\n",
    "### clean the values for MENTHLTH:\n",
    "# change the 88 values to 0 since they represent none/never\n",
    "# remove responses that the 77 and 99, indicating they don't know or\n",
    "# refused to respond, as they won't be helpful in the analysis\n",
    "brf_clean <- brf |>\n",
    "  select(MENTHLTH, FLUSHOT7, ECIGNOW1, EMPLOY1) |>\n",
    "  mutate(\n",
    "    MENTHLTH = ifelse(MENTHLTH == 88, 0, MENTHLTH)\n",
    "  ) |>\n",
    "  filter(MENTHLTH <= 30 | is.na(MENTHLTH)) # include NAs\n",
    "\n",
    "# validating the max looks appropriate\n",
    "summary(brf_clean$MENTHLTH)\n",
    "\n",
    "### clean values for FLUSHOT7:\n",
    "# remove the values that represent \"don't know\" or \"refused to answer\" from FLUSHOT7 and EMPLOY1\n",
    "# change values 1 (yes) and 2 (no) into boolean values, modifying 2 -> 0\n",
    "brf_clean <- brf_clean |>\n",
    "  filter(!FLUSHOT7 %in% c(7, 9) & !EMPLOY1 == 9) |>\n",
    "  mutate(FLUSHOT7 = ifelse(FLUSHOT7 == 2, 0, FLUSHOT7)) # change no's to 0\n",
    "\n",
    "# validate we just have 0 and 1 for Y/N in FLUSHOT7\n",
    "unique(brf_clean$FLUSHOT7) # includes NAs\n",
    "\n",
    "### clean values for ECIGNOW1\n",
    "# there are two response categories that could be different based on the respondent's interpretation of 'now', but both indicate the respondent does not use\n",
    "# e-cigarettes daily or sometimes, so my inclination is to make two categories indicating whether they are a current user or not\n",
    "# it also makes sense to remove the responses where the respondent refused to answer or did not know\n",
    "brf_clean <- brf_clean |>\n",
    "  filter(!ECIGNOW1 %in% c(7, 9)) |> # filtering out 'not sure' and 'refused'\n",
    "  mutate(\n",
    "    ECIGNOW1 = case_when(\n",
    "      ECIGNOW1 %in% c(1, 2) ~ 1,  # current users == 1\n",
    "      ECIGNOW1 %in% c(3, 4) ~ 0 # not current users == 0\n",
    "    )\n",
    "  )\n",
    "\n",
    "# validate the values are 0 and 1 for whether respondent is a current e-cig user\n",
    "unique(brf_clean$ECIGNOW1) # includes NAs\n",
    "\n",
    "### removing 'refused' for EMPLOY1\n",
    "brf_clean <- brf_clean |>\n",
    "  filter(!EMPLOY1 == 9) |>\n",
    "  mutate(\n",
    "    EMPLOY1 = case_when(\n",
    "      EMPLOY1 == 1 ~ \"Employed\",\n",
    "      EMPLOY1 == 2 ~ \"Self-employed\",\n",
    "      EMPLOY1 == 3 ~ \"Unemployed +1 yr\",\n",
    "      EMPLOY1 == 4 ~ \"Unemployed -1 yr\",\n",
    "      EMPLOY1 == 5 ~ \"Homemaker\",\n",
    "      EMPLOY1 == 6 ~ \"Student\",\n",
    "      EMPLOY1 == 7 ~ \"Retired\",\n",
    "      EMPLOY1 == 8 ~ \"Unable to work\"\n",
    "    )\n",
    "  )\n",
    "\n",
    "########################\n",
    "# imputing/ handling NAs\n",
    "########################\n",
    "# there are only 2 NA values for MENTHLTH, but can impute with the median since it's a discrete variable\n",
    "MENTHLTH_median <- median(brf_clean$MENTHLTH, na.rm = TRUE)\n",
    "MENTHLTH_median\n",
    "\n",
    "sum(is.na(brf_clean$FLUSHOT7)) / nrow(brf_clean) # 0.05\n",
    "sum(is.na(brf_clean$ECIGNOW1)) / nrow(brf_clean) # 0.04\n",
    "\n",
    "sum(is.na(brf_clean$EMPLOY1)) / nrow(brf_clean) # 0.00\n",
    "\n",
    "brf_clean <- brf_clean |>\n",
    "  mutate(\n",
    "    MENTHLTH = ifelse(is.na(MENTHLTH), MENTHLTH_median, MENTHLTH),\n",
    "    EMPLOY1 = factor(EMPLOY1) # needs to be a factor to be used properly for visualizations\n",
    "  ) |>\n",
    "  filter(!is.na(FLUSHOT7) & !is.na(ECIGNOW1)) |>\n",
    "  rename(\n",
    "    FLUSHOT = FLUSHOT7,\n",
    "    ECIGUSER = ECIGNOW1,\n",
    "    EMPLOY = EMPLOY1\n",
    "  ) # renaming the variables so they are more readable\n",
    "\n",
    "# preview\n",
    "head(brf_clean, 10)"
   ]
  },
  {
   "cell_type": "markdown",
   "id": "988af965",
   "metadata": {},
   "source": [
    "#### Explanation of the data cleansing changes\n",
    "In the code block above, I start by cleaning the data and removing any outliers. I chose to do this step by step for each variable to make \n",
    "it easier to explain what was happening in each step, but this could have been done all at once. For the categorical variable that had \n",
    "binary outcomes, I chose to convert those fields (`FLUSHOT7` and `ECIGNOW1`) into boolean values to indicate `TRUE` or `FALSE`. I also\n",
    "chose to filter out the responses where the responent chose \"Don't know\" or \"Refused\" as outliers, since these values to do provide much\n",
    "value in the analysis.\n",
    "\n",
    "After cleaning and removing outliers, I imputed and handled NA values that occurred in the data. Since `MENTHLTH` is a discrete numeric \n",
    "variable, I calculated the `median()` and imputed that value for the 2 records that were missing `MENTHLTH`. Since the other variables in \n",
    "the data set are categorical it didn't make sense to impute them this same way. I looked at the unique values for `EMPLOY1` and saw that\n",
    "there are no NA values in the dataset, so there was nothing to be done here. The other variables however, `FLUSHOT7` and `ECIGNOW1` both \n",
    "contained NAs. I looked the the percentage of missing values out of the total and saw they accounted for 0.05% and 0.04% respectively, so \n",
    "given that these are small percentages of the total dataset, I decided to omit them.\n",
    "\n",
    "I also included a `rename()` statement to make the variable names easier to work with. "
   ]
  },
  {
   "cell_type": "markdown",
   "id": "b987c844",
   "metadata": {},
   "source": [
    "### Exploratory Analysis with ggplot2 visualizations "
   ]
  },
  {
   "cell_type": "markdown",
   "id": "90869dc5",
   "metadata": {},
   "source": [
    "#### Employment Category vs Mental Health\n",
    "This visualization shows boxplots for poor mental health days within the last 30 days for each different employment\n",
    "category. The lower median values (the dark line in the box), indicate that people who are employed in the categories \"Employed\", \n",
    "\"Homemakers\", \"Self-Employed\", and \"Retired\" experience fewer poor mental health days than people whose employment category falls under \n",
    "\"Student\", \"Unable to Work\", \"Unemployed +1 yr\" or \"Unemployed -1 yr\". This also relates to the outliers seen in the categories \"Employed\", \n",
    "\"Homemakers\", \"Self-Employed\", and \"Retired\", which make sense since the majority of the number of poor mental health days in those categories\n",
    "is low."
   ]
  },
  {
   "cell_type": "code",
   "execution_count": 15,
   "id": "fca5fe93",
   "metadata": {
    "vscode": {
     "languageId": "r"
    }
   },
   "outputs": [
    {
     "data": {
      "image/png": "[encoded data removed]",
      "text/plain": [
       "plot without title"
      ]
     },
     "metadata": {
      "image/png": {
       "height": 420,
       "width": 420
      }
     },
     "output_type": "display_data"
    }
   ],
   "source": [
    "ggplot(data = brf_clean, aes(x = EMPLOY, y = MENTHLTH, fill = EMPLOY)) +\n",
    "  geom_boxplot() +\n",
    "  labs(\n",
    "    title = \"Poor Mental Health Days Across Employment Categories\",\n",
    "    x = \"Employment Category\",\n",
    "    y = \"# Poor Mental Health Days in the last 30 days\"\n",
    "  ) + scale_fill_brewer(palette = \"RdYlBu\")\n",
    "\n",
    "# save plot\n",
    "ggsave(\"figures/employment_v_mental_health.png\", width = 18, height = 6)"
   ]
  },
  {
   "cell_type": "markdown",
   "id": "fbe20dc0",
   "metadata": {},
   "source": [
    "#### e-Cigarette Use vs Mental Health\n",
    "This visualization is a boxplot that shows poor mental health days within the last 30 days for people who are and are not current e-cigarette\n",
    "smokers. Non e-cigarette smokers have a lower median number of bad mental health days and their smaller IQR boxes indicate there's less \n",
    "variability for the number of bad mental health days e-cigarette smokers experience. This visualization indicates e-cigarette smokers\n",
    "experience more poor mental health days and there is much more variability within that group."
   ]
  },
  {
   "cell_type": "code",
   "execution_count": 21,
   "id": "3d2a9a58",
   "metadata": {
    "vscode": {
     "languageId": "r"
    }
   },
   "outputs": [
    {
     "data": {
      "image/png": "[encoded data removed]",
      "text/plain": [
       "plot without title"
      ]
     },
     "metadata": {
      "image/png": {
       "height": 420,
       "width": 420
      }
     },
     "output_type": "display_data"
    }
   ],
   "source": [
    "# relationship between e-cigarette users/ non-users and # poor mental health days in the last 30 days\n",
    "ggplot(data = brf_clean, aes(x = factor(ECIGUSER), y = MENTHLTH, fill = factor(ECIGUSER))) +\n",
    "  geom_boxplot() +\n",
    "  labs(\n",
    "    title = \"Poor Mental Health Days Across E-Cigarette Smokers and Non-Smokers\",\n",
    "    x = \"E-Cigarette Non-Smoker (0) / Smoker (1)\",\n",
    "    y = \"# Poor Mental Health Days in the last 30 days\",\n",
    "    fill = \"Current User\"\n",
    "  ) + scale_fill_brewer(palette = \"RdYlBu\")\n",
    "\n",
    "# save plot\n",
    "ggsave(\"figures/ecig_v_mental_health.png\", width = 18, height = 6)"
   ]
  },
  {
   "cell_type": "markdown",
   "id": "22ad514c",
   "metadata": {
    "vscode": {
     "languageId": "r"
    }
   },
   "source": [
    "#### Flu Shot Received vs Mental Health\n",
    "This visualization is a boxplot that showing poor mental health days within the last 30 days for groups of respondents who did or did not\n",
    "receive the flu shot. The two boxplots between respondents who did and did not receive the flu shot are pretty similar, indicating there \n",
    "isn't a significant difference between the two groups, but the group who did not receive the flu shot has larger IQR boxes, which shows \n",
    "there is more variability within that group in terms of how many poor mental health days they experience."
   ]
  },
  {
   "cell_type": "code",
   "execution_count": 22,
   "id": "b4f3ad44",
   "metadata": {
    "vscode": {
     "languageId": "r"
    }
   },
   "outputs": [
    {
     "data": {
      "image/png": "[encoded data removed]",
      "text/plain": [
       "plot without title"
      ]
     },
     "metadata": {
      "image/png": {
       "height": 420,
       "width": 420
      }
     },
     "output_type": "display_data"
    }
   ],
   "source": [
    "# relationship between flu shot received or not and poor mental health days in the last 30 days\n",
    "ggplot(data = brf_clean, aes(x = factor(FLUSHOT), y = MENTHLTH, fill = factor(FLUSHOT))) +\n",
    "  geom_boxplot() +\n",
    "  labs(\n",
    "    title = \"Poor Mental Health Days for People Who Did and Did Not Receive the Flu Shot\",\n",
    "    x = \"Received No Shot (0) / Flu Shot (1)\",\n",
    "    y = \"# Poor Mental Health Days in the last 30 days\",\n",
    "    fill = \"Flu Shot Recipient\"\n",
    "  )  + scale_fill_brewer(palette = \"RdYlBu\")\n",
    "\n",
    "# save plot\n",
    "ggsave(\"figures/flushot_v_mental_health.png\", width = 18, height = 6)"
   ]
  },
  {
   "cell_type": "markdown",
   "id": "935c9c40",
   "metadata": {},
   "source": [
    "### Descriptive Statistics\n",
    "For gathering summary statistics for `MENTHLTH`, I used the `summary()` function to look at the quartiles, median, mean, min and max. The min and max values are as expected and represent the full range of values: i.e. the respondents could have at minimum had 0 poor mental health days and at most all 30 days. The more interesting difference is with the median and the mean. The median of 0 and the mean of 4.124 indicate that the data are right skewed and half of the respondents said they did not experience any poor mental health days within the last 30 days. The mean of 4.124 tells us there are respondents who answered with rather high numbers, which skews the results farther to the right.\n",
    "\n",
    "The other variables are categorical, so for those I chose to create a `table()` to see the proportions of the values across each category. \n",
    "Based on those proportions, we can see that slightly more people received the flu shot than not, and the amount of respondents who are not \n",
    "current e-cigarette users is more than 1 order of magnitude greater than the respondents who are current e-cigarette users. For the `EMPLOY` \n",
    "category, the \"Employed\" and \"Retired\" groups are the largest categories, with \"Students\" and the Unemployed groups making up the smallest \n",
    "portion of respondents. "
   ]
  },
  {
   "cell_type": "code",
   "execution_count": null,
   "id": "7075f69e",
   "metadata": {
    "vscode": {
     "languageId": "r"
    }
   },
   "outputs": [
    {
     "name": "stdout",
     "output_type": "stream",
     "text": [
      "tibble [396,554 × 4] (S3: tbl_df/tbl/data.frame)\n",
      " $ MENTHLTH: num [1:396554] 10 0 0 10 0 0 0 0 0 5 ...\n",
      " $ FLUSHOT : num [1:396554] 1 0 0 1 1 1 1 1 1 0 ...\n",
      " $ ECIGUSER: num [1:396554] 0 0 0 0 0 0 0 0 0 0 ...\n",
      " $ EMPLOY  : Factor w/ 8 levels \"Employed\",\"Homemaker\",..: 3 6 3 3 6 3 6 4 3 3 ...\n"
     ]
    },
    {
     "data": {
      "text/plain": [
       "   Min. 1st Qu.  Median    Mean 3rd Qu.    Max. \n",
       "  0.000   0.000   0.000   4.124   4.000  30.000 "
      ]
     },
     "metadata": {},
     "output_type": "display_data"
    },
    {
     "data": {
      "text/plain": [
       "\n",
       "     0      1 \n",
       "189318 207236 "
      ]
     },
     "metadata": {},
     "output_type": "display_data"
    },
    {
     "data": {
      "text/plain": [
       "\n",
       "     0      1 \n",
       "378120  18434 "
      ]
     },
     "metadata": {},
     "output_type": "display_data"
    },
    {
     "data": {
      "text/plain": [
       "\n",
       "        Employed        Homemaker          Retired    Self-employed \n",
       "          171511            16183           122059            34518 \n",
       "         Student   Unable to work Unemployed -1 yr Unemployed +1 yr \n",
       "            9859            23266             8846            10312 "
      ]
     },
     "metadata": {},
     "output_type": "display_data"
    }
   ],
   "source": [
    "# view the structure of the dataset\n",
    "str(brf_clean)\n",
    "\n",
    "# summary stats: MENTHLTH\n",
    "summary(brf_clean$MENTHLTH)\n",
    "#    Min. 1st Qu.  Median    Mean 3rd Qu.    Max.\n",
    "#  0.000   0.000   0.000   4.124   4.000  30.000\n",
    "\n",
    "# summary stats: FLUSHOT\n",
    "table(brf_clean$FLUSHOT)\n",
    "#     0      1\n",
    "# 189318 207236\n",
    "\n",
    "# summary stats: ECIGUSER\n",
    "table(brf_clean$ECIGUSER)\n",
    "#      0      1\n",
    "# 378120  18434\n",
    "\n",
    "# summary stats: EMPLOY\n",
    "table(brf_clean$EMPLOY)\n",
    "#         Employed        Homemaker          Retired    Self-employed\n",
    "#          171511            16183           122059            34518\n",
    "#         Student   Unable to work Unemployed -1 yr Unemployed +1 yr\n",
    "#            9859            23266             8846            10312"
   ]
  },
  {
   "cell_type": "markdown",
   "id": "7508a1ad",
   "metadata": {},
   "source": [
    "### Regressions\n",
    "This section is using linear regressions to predict mental health outcomes for different combinations of predictors. It is then identifying the best model using the `AIC()` score calculated, which helps determine the best model fit based on the lowest score."
   ]
  },
  {
   "cell_type": "code",
   "execution_count": null,
   "id": "67a03691",
   "metadata": {
    "vscode": {
     "languageId": "r"
    }
   },
   "outputs": [
    {
     "data": {
      "text/plain": [
       "\n",
       "Call:\n",
       "lm(formula = MENTHLTH ~ EMPLOY + ECIGUSER + FLUSHOT, data = brf_clean)\n",
       "\n",
       "Residuals:\n",
       "     Min       1Q   Median       3Q      Max \n",
       "-14.4031  -3.5688  -2.7620  -0.4061  27.5939 \n",
       "\n",
       "Coefficients:\n",
       "                       Estimate Std. Error t value Pr(>|t|)    \n",
       "(Intercept)             3.92468    0.02289 171.482  < 2e-16 ***\n",
       "EMPLOYHomemaker         0.34122    0.06472   5.272 1.35e-07 ***\n",
       "EMPLOYRetired          -1.16263    0.03017 -38.535  < 2e-16 ***\n",
       "EMPLOYSelf-employed    -0.78394    0.04648 -16.866  < 2e-16 ***\n",
       "EMPLOYStudent           2.74020    0.08157  33.595  < 2e-16 ***\n",
       "EMPLOYUnable to work    6.54987    0.05497 119.153  < 2e-16 ***\n",
       "EMPLOYUnemployed -1 yr  3.13406    0.08589  36.490  < 2e-16 ***\n",
       "EMPLOYUnemployed +1 yr  3.55980    0.07982  44.600  < 2e-16 ***\n",
       "ECIGUSER                3.92859    0.05995  65.533  < 2e-16 ***\n",
       "FLUSHOT                -0.35590    0.02584 -13.774  < 2e-16 ***\n",
       "---\n",
       "Signif. codes:  0 ‘***’ 0.001 ‘**’ 0.01 ‘*’ 0.05 ‘.’ 0.1 ‘ ’ 1\n",
       "\n",
       "Residual standard error: 7.868 on 396544 degrees of freedom\n",
       "Multiple R-squared:  0.07119,\tAdjusted R-squared:  0.07117 \n",
       "F-statistic:  3377 on 9 and 396544 DF,  p-value: < 2.2e-16\n"
      ]
     },
     "metadata": {},
     "output_type": "display_data"
    },
    {
     "data": {
      "text/plain": [
       "\n",
       "Call:\n",
       "lm(formula = MENTHLTH ~ EMPLOY + ECIGUSER + FLUSHOT, data = brf_clean)\n",
       "\n",
       "Standardized Coefficients::\n",
       "           (Intercept)        EMPLOYHomemaker          EMPLOYRetired \n",
       "                    NA            0.008269824           -0.065738099 \n",
       "   EMPLOYSelf-employed          EMPLOYStudent   EMPLOYUnable to work \n",
       "          -0.027070933            0.052264308            0.188555140 \n",
       "EMPLOYUnemployed -1 yr EMPLOYUnemployed +1 yr               ECIGUSER \n",
       "           0.056696471            0.069398358            0.101317470 \n",
       "               FLUSHOT \n",
       "          -0.021775981 \n"
      ]
     },
     "metadata": {},
     "output_type": "display_data"
    },
    {
     "data": {
      "text/plain": [
       "\n",
       "Call:\n",
       "lm(formula = MENTHLTH ~ EMPLOY + ECIGUSER, data = brf_clean)\n",
       "\n",
       "Standardized Coefficients::\n",
       "           (Intercept)        EMPLOYHomemaker          EMPLOYRetired \n",
       "                    NA            0.008381302           -0.070277426 \n",
       "   EMPLOYSelf-employed          EMPLOYStudent   EMPLOYUnable to work \n",
       "          -0.025956649            0.052530410            0.188361471 \n",
       "EMPLOYUnemployed -1 yr EMPLOYUnemployed +1 yr               ECIGUSER \n",
       "           0.057506151            0.070058457            0.102688563 \n"
      ]
     },
     "metadata": {},
     "output_type": "display_data"
    },
    {
     "data": {
      "text/html": [
       "2761371.93595447"
      ],
      "text/latex": [
       "2761371.93595447"
      ],
      "text/markdown": [
       "2761371.93595447"
      ],
      "text/plain": [
       "[1] 2761372"
      ]
     },
     "metadata": {},
     "output_type": "display_data"
    },
    {
     "data": {
      "text/html": [
       "2761559.61447716"
      ],
      "text/latex": [
       "2761559.61447716"
      ],
      "text/markdown": [
       "2761559.61447716"
      ],
      "text/plain": [
       "[1] 2761560"
      ]
     },
     "metadata": {},
     "output_type": "display_data"
    }
   ],
   "source": [
    "# 1. linear regression predicting MENTHLTH from EMPLOY + ECIGUSER + FLUSHOT\n",
    "model_all <- lm(MENTHLTH ~ EMPLOY + ECIGUSER + FLUSHOT, brf_clean)\n",
    "summary(model_all)\n",
    "lm.beta(model_all)\n",
    "\n",
    "# 2. linear regression predicting MENTHLTH from EMPLOY + ECIGUSER\n",
    "model_emp_ecig <- lm(MENTHLTH ~ EMPLOY + ECIGUSER, brf_clean)\n",
    "lm.beta(model_emp_ecig)\n",
    "\n",
    "# which is a better fit?\n",
    "AIC(model_all)\n",
    "AIC(model_emp_ecig)"
   ]
  },
  {
   "cell_type": "markdown",
   "id": "fcc9c41d",
   "metadata": {},
   "source": [
    "#### Interpreting the Linear Regression Results\n",
    "**1.  linear regression predicting MENTHLTH from EMPLOY + ECIGUSER + FLUSHOT**  \n",
    "For the first linear regression, I am using `EMPLOY`, `ECIGUSER`, and `FLUSHOT` to predict a respondent's `MENTHLTH`. After creating the \n",
    "linear model, I use `lm.beta()` to standardize the regression coefficients, so that all the variables are evaluated on the same scale. \n",
    "Based on the standardized regression coefficients, it's clear that being unable to work (`EMPLOY` == 'Unable to work') and being a current \n",
    "e-cigarette users, are the strongest predictors of poor mental health out of the different predictors in the regression. It also shows a \n",
    "slightly better mental health for respondents who are retired, self-employed, and received the flu shot.\n",
    "\n",
    "**2. linear regression predicting MENTHLTH from EMPLOY + ECIGUSER**  \n",
    "Since the data from the first regression showed that whether the respondent received the flu shot only had a slight impact on their mental \n",
    "health, I removed it from the regression to see how `MENTHLTH` would be impacted. This did not appear to make a significant difference in \n",
    "the standardized regression coefficients.\n",
    "\n",
    "**Better fit**  \n",
    "When comparing the `AIC()` values between the two linear regression models, they're actually quite close, but the first linear regression \n",
    "model which uses all 3 variables (`EMPLOY`, `ECIGUSER`, and `FLUSHOT`) as predictors of `MENTHLTH`, appears to be the stronger model of the \n",
    "two, with an AIC of 2761372 as opposed to 2765961 in the second linear regression.\n"
   ]
  },
  {
   "cell_type": "markdown",
   "id": "dc0f839e",
   "metadata": {},
   "source": [
    "------------------------------------------------------------------------"
   ]
  },
  {
   "cell_type": "markdown",
   "id": "cce66129",
   "metadata": {},
   "source": [
    "## Summary of Findings\n",
    "\n",
    "This project demonstrated how multiple regression techniques can be used to explore complex relationships among variables in a dataset. More specifically- how e-cigarette usage, receiving the flu shot, and employment status can influence mental health outcomes.\n",
    "\n",
    "### Key Takeaways from the Regression Analysis\n",
    "#### Strongest Predictors of Poor Mental Health:\n",
    "Being unable to work and being a current e-cigarette user emerged as the strongest predictors of poor mental health (`MENTHLTH`). These variables showed the highest standardized beta coefficients, indicating a stronger association with increased reported mental health issues.\n",
    "\n",
    "#### Positive Associations with Better Mental Health:\n",
    "Respondents who were retired, self-employed, or had received a flu shot reported slightly better mental health outcomes. However, these effects were relatively modest compared to the impact of employment status and e-cigarette use.\n",
    "\n",
    "#### Limited Impact of Flu Shot Variable:\n",
    "Removing the `FLUSHOT` variable from the model did not significantly alter the standardized coefficients of the remaining predictors, suggesting that flu shot status has a limited influence on mental health when controlling for employment and e-cigarette use.\n",
    "\n",
    "#### Model Fit Comparison (AIC): \n",
    "Although the difference is not dramatic, the model including all three predictors (`EMPLOY`, `ECIGUSER`, and `FLUSHOT`) had a slightly better fit based on the AIC (2761372 vs. 2765961). This suggests that retaining the flu shot variable, while not strongly impactful on its own, slightly improves the overall explanatory power of the model."
   ]
  },
  {
   "cell_type": "markdown",
   "id": "31a80373",
   "metadata": {},
   "source": [
    "### Further Analysis\n",
    "For further analysis, it could be valuable to explore potential interaction effects between predictors. For example, whether the relationship between e-cigarette use and mental health varies depending on employment status. This could uncover more nuanced patterns in the data. Additionally, running subset analyses across demographic groups (e.g., age, gender, or income) may reveal that certain predictors are more or less influential depending on the population. Finally, converting mental health into a binary outcome (e.g., frequent poor mental health vs. not) would allow for a logistic regression approach, which could offer a different perspective on risk factors associated with poorer mental health outcomes."
   ]
  }
 ],
 "metadata": {
  "kernelspec": {
   "display_name": "R",
   "language": "R",
   "name": "ir"
  },
  "language_info": {
   "codemirror_mode": "r",
   "file_extension": ".r",
   "mimetype": "text/x-r-source",
   "name": "R",
   "pygments_lexer": "r",
   "version": "4.4.2"
  }
 },
 "nbformat": 4,
 "nbformat_minor": 5
}
